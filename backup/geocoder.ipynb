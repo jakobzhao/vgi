{
 "cells": [
  {
   "cell_type": "markdown",
   "metadata": {},
   "source": [
    "## GEOCODER for lgbtqspaces\n"
   ]
  },
  {
   "cell_type": "code",
   "execution_count": 1,
   "metadata": {},
   "outputs": [],
   "source": [
    "# imports and other needed things\n",
    "# https://api.mapbox.com/{endpoint}?access_token={your_access_token}\n",
    "\n",
    "import geocoder\n",
    "import pandas as pd\n",
    "import numpy as np\n",
    "import os\n",
    "import time\n",
    "\n",
    "# If use mapbox, then an access token is required - obtained through creating an account in Mapbox. \n",
    "access_token = \"\""
   ]
  },
  {
   "cell_type": "markdown",
   "metadata": {},
   "source": [
    "GEOCODER Documentation/Guide: https://geocoder.readthedocs.io/"
   ]
  },
  {
   "cell_type": "markdown",
   "metadata": {},
   "source": [
    "Current notes:\n",
    "    This implementation is adding every csv file into the code and running all the addresses (so it takes a long time to run in generael).    \n",
    "    Can take just the geocoder and experiment with single addresses first before doing every file! "
   ]
  },
  {
   "cell_type": "markdown",
   "metadata": {},
   "source": [
    "- change `files` to corresponding directory\n",
    "- change `location` to corresponding `city, state` format to ensure geocoding accuracy\n",
    "- please ensure that corresponding directory does not have same file name as output files already (otherwise code will take 2x the time to run)\n",
    "- current implementation is to use mapbox, can be adjusted with what Geocoder's service applies (check documentation)"
   ]
  },
  {
   "cell_type": "code",
   "execution_count": 19,
   "metadata": {},
   "outputs": [
    {
     "name": "stderr",
     "output_type": "stream",
     "text": [
      "C:\\Users\\kevin\\Anaconda3\\lib\\site-packages\\ipykernel_launcher.py:20: SettingWithCopyWarning: \n",
      "A value is trying to be set on a copy of a slice from a DataFrame\n",
      "\n",
      "See the caveats in the documentation: http://pandas.pydata.org/pandas-docs/stable/indexing.html#indexing-view-versus-copy\n",
      "C:\\Users\\kevin\\Anaconda3\\lib\\site-packages\\ipykernel_launcher.py:22: SettingWithCopyWarning: \n",
      "A value is trying to be set on a copy of a slice from a DataFrame\n",
      "\n",
      "See the caveats in the documentation: http://pandas.pydata.org/pandas-docs/stable/indexing.html#indexing-view-versus-copy\n"
     ]
    },
    {
     "data": {
      "text/plain": [
       "7"
      ]
     },
     "execution_count": 19,
     "metadata": {},
     "output_type": "execute_result"
    }
   ],
   "source": [
    "# Add data files - have change depend on csv and excel locations\n",
    "directory = \"seattle_m/\"\n",
    "location = \"Seattle, WA\"\n",
    "\n",
    "# Find all files in the set directory above \n",
    "files = os.listdir(directory)\n",
    "df_wa_men = []\n",
    "\n",
    "# Read into directory and put all files into list\n",
    "for i in range(len(files)):\n",
    "    temp_df = pd.read_csv(directory + files[i])\n",
    "    temp_df.columns = temp_df.columns.str.lower()\n",
    "    df_wa_men.append(temp_df)\n",
    "\n",
    "# *Only specifically for Seattle Data (remove all rows with no data in all columns)\n",
    "# Can comment out for data not pertaining to Seattle_m\n",
    "df_wa_men[1] = df_wa_men[1][0:21]\n",
    "\n",
    "# NULL values in address currently changed to name\n",
    "for i in range(len(df_wa_men)):\n",
    "    for j in range(len(df_wa_men[i].address)):\n",
    "        # make each address field into a valid string\n",
    "        df_wa_men[i].address[j] = str(df_wa_men[i].address[j])\n",
    "        if \"NULL\" in df_wa_men[i].address[j]:\n",
    "            df_wa_men[i].address[j] = df_wa_men[i].name[j]\n",
    "        elif \"NaN\" in df_wa_men[i].address[j]:\n",
    "            df_wa_men[i].address[j] = df_wa_men[i].name[j]\n",
    "len(df_wa_men)"
   ]
  },
  {
   "cell_type": "code",
   "execution_count": 22,
   "metadata": {},
   "outputs": [
    {
     "name": "stderr",
     "output_type": "stream",
     "text": [
      "Status code 404 from https://api.mapbox.com/geocoding/v5/mapbox.places/115 1/2 1st Ave S Seattle, WA.json: ERROR - 404 Client Error: Not Found for url: https://api.mapbox.com/geocoding/v5/mapbox.places/115%201/2%201st%20Ave%20S%20Seattle,%20WA.json?access_token=pk.eyJ1Ijoia2V2aW5rb2NodW55dSIsImEiOiJja3BkdDRkMzYxaHJiMnBvMWNlZ21iZm12In0.EgOe8AAJuApJrrEDtc62IQ\n"
     ]
    },
    {
     "name": "stdout",
     "output_type": "stream",
     "text": [
      "3 38\n"
     ]
    },
    {
     "name": "stderr",
     "output_type": "stream",
     "text": [
      "Status code 404 from https://api.mapbox.com/geocoding/v5/mapbox.places/Archidocesan Catholic Gay/Lesbian Ministry Seattle, WA.json: ERROR - 404 Client Error: Not Found for url: https://api.mapbox.com/geocoding/v5/mapbox.places/Archidocesan%20Catholic%20Gay/Lesbian%20Ministry%20Seattle,%20WA.json?access_token=pk.eyJ1Ijoia2V2aW5rb2NodW55dSIsImEiOiJja3BkdDRkMzYxaHJiMnBvMWNlZ21iZm12In0.EgOe8AAJuApJrrEDtc62IQ\n"
     ]
    },
    {
     "name": "stdout",
     "output_type": "stream",
     "text": [
      "4 65\n",
      "39.16551446914673\n"
     ]
    }
   ],
   "source": [
    "## Geocoding for lat and lng\n",
    "## ** Code is also timed to make comparisons\n",
    "t0 = time.time()\n",
    "for i in range(len(df_wa_men)):\n",
    "    lat = []\n",
    "    long = []\n",
    "    for j in range(len(df_wa_men[i].address)): \n",
    "        g = geocoder.mapbox(df_wa_men[i].address[j] + \" \" + location, key=access_token)\n",
    "        # if mapbox code throws error 404, then currently replace with Seattle lat long\n",
    "        if \"404\" in g.status:\n",
    "            lat.append(47.6038)\n",
    "            long.append(-122.3301)\n",
    "            # Print out i,j // i = file, j = row observation\n",
    "            print(i, j)\n",
    "        else:\n",
    "        # Otherwise this is data obtained from the geocoder API\n",
    "            lat.append(g.latlng[0])\n",
    "            long.append(g.latlng[1])\n",
    "            \n",
    "    df_wa_men[i][\"Latitude\"] = lat\n",
    "    df_wa_men[i][\"Longitude\"] = long\n",
    "t1 = time.time()\n",
    "print(t1-t0)\n"
   ]
  },
  {
   "cell_type": "code",
   "execution_count": 23,
   "metadata": {},
   "outputs": [],
   "source": [
    "# output file with {name of file}_geocoded.csv\n",
    "for i in range(len(files)):\n",
    "    df_wa_men[i].to_csv(directory + files[i][:-4] + \"_geocoded.csv\", index=True)"
   ]
  },
  {
   "cell_type": "markdown",
   "metadata": {},
   "source": [
    "### Experiments"
   ]
  },
  {
   "cell_type": "code",
   "execution_count": 3,
   "metadata": {},
   "outputs": [
    {
     "data": {
      "text/plain": [
       "{'results': [{'address_components': [{'long_name': '322',\n",
       "     'short_name': '322',\n",
       "     'types': ['subpremise']},\n",
       "    {'long_name': '400', 'short_name': '400', 'types': ['street_number']},\n",
       "    {'long_name': 'East Pine Street',\n",
       "     'short_name': 'E Pine St',\n",
       "     'types': ['route']},\n",
       "    {'long_name': 'Capitol Hill',\n",
       "     'short_name': 'Capitol Hill',\n",
       "     'types': ['neighborhood', 'political']},\n",
       "    {'long_name': 'Seattle',\n",
       "     'short_name': 'Seattle',\n",
       "     'types': ['locality', 'political']},\n",
       "    {'long_name': 'King County',\n",
       "     'short_name': 'King County',\n",
       "     'types': ['administrative_area_level_2', 'political']},\n",
       "    {'long_name': 'Washington',\n",
       "     'short_name': 'WA',\n",
       "     'types': ['administrative_area_level_1', 'political']},\n",
       "    {'long_name': 'United States',\n",
       "     'short_name': 'US',\n",
       "     'types': ['country', 'political']},\n",
       "    {'long_name': '98122', 'short_name': '98122', 'types': ['postal_code']}],\n",
       "   'formatted_address': '400 E Pine St #322, Seattle, WA 98122, USA',\n",
       "   'geometry': {'location': {'lat': 47.6153397, 'lng': -122.3262767},\n",
       "    'location_type': 'ROOFTOP',\n",
       "    'viewport': {'northeast': {'lat': 47.6166886802915,\n",
       "      'lng': -122.3249277197085},\n",
       "     'southwest': {'lat': 47.6139907197085, 'lng': -122.3276256802915}}},\n",
       "   'place_id': 'ChIJ28pVNstqkFQRjt2kIDngzV0',\n",
       "   'plus_code': {'compound_code': 'JM8F+4F Seattle, WA, USA',\n",
       "    'global_code': '84VVJM8F+4F'},\n",
       "   'types': ['establishment', 'point_of_interest']}],\n",
       " 'status': 'OK'}"
      ]
     },
     "execution_count": 3,
     "metadata": {},
     "output_type": "execute_result"
    }
   ],
   "source": [
    "import requests\n",
    "## add API key here to use google's API!\n",
    "api_key= ''\n",
    "\n",
    "base_url = 'https://maps.googleapis.com/maps/api/geocode/json?'\n",
    "address = 'GSBA Seattle, WA'\n",
    "params = {\n",
    "    'key': api_key,\n",
    "    'address': address\n",
    "}\n",
    "\n",
    "response = requests.get(base_url, params=params)\n",
    "response.json()"
   ]
  }
 ],
 "metadata": {
  "kernelspec": {
   "display_name": "Python 3",
   "language": "python",
   "name": "python3"
  },
  "language_info": {
   "codemirror_mode": {
    "name": "ipython",
    "version": 3
   },
   "file_extension": ".py",
   "mimetype": "text/x-python",
   "name": "python",
   "nbconvert_exporter": "python",
   "pygments_lexer": "ipython3",
   "version": "3.7.3"
  }
 },
 "nbformat": 4,
 "nbformat_minor": 2
}
